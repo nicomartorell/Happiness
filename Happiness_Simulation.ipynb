{
 "cells": [
  {
   "cell_type": "markdown",
   "metadata": {},
   "source": [
    "<h1>Happiness Simulator</h1>\n",
    "\n",
    "<p>Based on the \"Pyramid of needs\", I have built a model which calculates a parameter, h, which aproximates the \"happiness\" of a person. This parameter changes through time, and is calculated through averaging the states of the needs of the pyramid, which can go arbitrarily from -10 to 10, 0 being the neutral state. Each state takes an input at each time step, which can be positive (+1), negative (-1) or neutral (0). This is a discrete model of how happiness and the state of needs are affected by positive or negative events. Just like in the pyramid model, the higher needs will be less susceptible to change (they are less available) if the preceding ones have low state value. Through this system, an event which is absolute becomes scaled by the availability of the needs at a certain time.</p>"
   ]
  },
  {
   "cell_type": "code",
   "execution_count": 9,
   "metadata": {},
   "outputs": [
    {
     "data": {
      "text/plain": [
       "'\\nshow input plot:\\n\\nfig, ax = plt.subplots()\\nax.plot(range(total_time), cats[0].inp)\\nax.set(xlabel=\"time\", ylabel=\"input\", title=\"Input test\")\\nfig.savefig(\"input_test.png\")\\nplt.show()\\n'"
      ]
     },
     "execution_count": 9,
     "metadata": {},
     "output_type": "execute_result"
    }
   ],
   "source": [
    "import numpy as np\n",
    "import matplotlib.pyplot as plt\n",
    "\n",
    "#cuánto valen en el input los eventos positivos y negativos\n",
    "pos_event = 1\n",
    "neg_event = -1\n",
    "\n",
    "#máximo y mínimo de los valores de los estados\n",
    "y_max = 10\n",
    "y_min = -10\n",
    "\n",
    "\"\"\"\n",
    "show input plot:\n",
    "\n",
    "fig, ax = plt.subplots()\n",
    "ax.plot(range(total_time), cats[0].inp)\n",
    "ax.set(xlabel=\"time\", ylabel=\"input\", title=\"Input test\")\n",
    "fig.savefig(\"input_test.png\")\n",
    "plt.show()\n",
    "\"\"\""
   ]
  },
  {
   "cell_type": "code",
   "execution_count": 10,
   "metadata": {},
   "outputs": [],
   "source": [
    "#defino categorías (cats) como una lista de objetos Cat\n",
    "class Cat:\n",
    "    \n",
    "    #variable que lleva la cuenta de la id de los objetos Cat\n",
    "    j = 0\n",
    "    \n",
    "    #constructor de Cat\n",
    "    def __init__(self, state=0, availability=1, p_pos_event=0.3, p_neg_event=0.3):\n",
    "        \"\"\"\n",
    "        Inicializo los campos de un Cat específico.\n",
    "        \n",
    "        id: número que corresponde a este Cat en la lista cats\n",
    "        state: estado inicial de este Cat\n",
    "        availability: disponibilidad de este Cat para tomar un input\n",
    "        y_max: valor máximo que puede tomar y (el estado)\n",
    "        y_min: valor mínimo que puede tomar y (el estado)\n",
    "        p_pos_event: la probabilidad de que suceda un evento positivo en el input\n",
    "        p_neg_event: la probabilidad de que suceda un evento negativo en el input\n",
    "        \n",
    "        y_list: lista en la que guardo todos los valores sucesivos de y\n",
    "        \"\"\"\n",
    "        \n",
    "        self.id = Cat.j\n",
    "        Cat.j+=1\n",
    "        \n",
    "        self.current_state = state\n",
    "        self.d = availability\n",
    "        self.p_pos = p_pos_event\n",
    "        self.p_neg = p_neg_event\n",
    "        \n",
    "        self.y_list = np.zeros((total_time - look_back_time, 1))\n",
    "    \n",
    "    def generate_input(self, length):\n",
    "        \"\"\"\n",
    "        genera el input de un cierto Cat para todo el trial\n",
    "        \n",
    "        length: duración total del trial\n",
    "        \"\"\"\n",
    "        fn = np.zeros((length, 1)) #en fn voy a guardar el input\n",
    "        for i in range(length):\n",
    "            r = np.random.rand() #genero un número aleatorio entre 0 y 1\n",
    "            if(r < self.p_pos): #guardo en fn un evento positivo, negativo o ninguno\n",
    "                fn[i] = pos_event\n",
    "            elif(r < self.p_pos + self.p_neg):\n",
    "                fn[i] = neg_event\n",
    "        self.inp = fn #el input es ahora fn\n",
    "    \n",
    "    def y(self, t):\n",
    "        \"\"\"\n",
    "        calculo y para un cierto tiempo a través de una convolución\n",
    "        \n",
    "        t: tiempo actual\n",
    "        \"\"\"\n",
    "        \n",
    "        if(t<look_back_time): #si no puedo mirar para atrás lo suficiente, me voy\n",
    "            return 0\n",
    "        \n",
    "        result = 0\n",
    "        for i in range(look_back_time): #voy moviéndome para atrás en el tiempo\n",
    "            input_value = self.inp[t - i] #tomo el input value de un cierto t\n",
    "            input_mod = input_value * self.d #lo escalo por la disponibilidad\n",
    "            filtered = input_mod * np.exp(-i*decay_constant) #miro cuanto decayó hasta ahora\n",
    "            result += filtered #lo sumo al resultado total\n",
    "        \n",
    "        if result > y_max:\n",
    "            result = y_max\n",
    "        elif result < y_min:\n",
    "            result = y_min\n",
    "        \n",
    "        self.current_state = result #el resultado es la suma de cómo decayeron todos los inputs\n",
    "        return result    \n",
    "    \n",
    "    def calc_d(self):\n",
    "        \"\"\"\n",
    "        calculo la disponibilidad d\n",
    "        \"\"\"\n",
    "        \n",
    "        if(self.id == 0): #para la primera cat no cambia la disponibilidad\n",
    "            return self.d\n",
    "        \n",
    "        prev_cat = cats[self.id - 1] #miro la cat anterior a esta\n",
    "        self.d = ((prev_cat.current_state - y_min)/(y_max - y_min))\n",
    "        #d va linealmente de 0 a 1 dependiendo del estado de la categoría anterior\n"
   ]
  },
  {
   "cell_type": "code",
   "execution_count": 11,
   "metadata": {},
   "outputs": [],
   "source": [
    "def simulate(total_time=365*2, look_back_time=200, decay_constant=0.1,\n",
    "             y_axis=\"h\", plot_name=\"plot\", p_array=[(0.6, 0),\n",
    "                                                    (0.3, 0.3),(0.3, 0.3),\n",
    "                                                    (0.3, 0.3),(0.3, 0.3)]):\n",
    "    \"\"\"\n",
    "    corro una simulación completa y muestro el gráfico de h(t).\n",
    "    \n",
    "    total_time: tiempo total (en días) de la simmulación.\n",
    "    look_back_time: tiempo que tengo que mirar hacia atrás para calcular\n",
    "                    la convolución.\n",
    "    decay_constant: \"velocidad\" con la que cae exponencialmente el efecto de\n",
    "                    un input.\n",
    "    y_axis: nombre del eje de ordenadas del gráfico.\n",
    "    plot_name: nombre del gráfico y del archivo correspondiente.\n",
    "    p_array: lista de tuples que contienen la probabilidad de un evento positivo\n",
    "             y negativo respectivamente. Al definir esta lista también estoy\n",
    "             definiendo la cantidad de niveles que tiene el modelo.\n",
    "    \"\"\"\n",
    "    #inicializo todos los cats y h, la felicidad\n",
    "    cats = []\n",
    "    for p_pos, p_neg in p_array:\n",
    "        cats.append(Cat(p_pos_event=p_pos, p_neg_event=p_neg))\n",
    "    \n",
    "    h = np.zeros((total_time - look_back_time, 1))\n",
    "    \n",
    "    #genero inputs para todos los cats\n",
    "    for cat in cats:\n",
    "        cat.generate_input(total_time)\n",
    "    \n",
    "    #corro la simulación para todo tiempo t desde el primero calculable hasta el último\n",
    "    for t in range(total_time - look_back_time):\n",
    "        partial_sum = 0\n",
    "        \n",
    "        for cat in cats: #para cada cat, en orden\n",
    "            cat.calc_d() #calculo la disponibilidad\n",
    "            cat.y_list[t] = cat.y(look_back_time + t) #calculo el valor del estado\n",
    "            partial_sum += cat.y_list[t] #sumo ese valor a la suma de todos los estados\n",
    "        \n",
    "        h[t] = partial_sum/len(cats) #hago el promedio del valor de todos los estados\n",
    "    \n",
    "    #grafico h en función del tiempo\n",
    "    fig, ax = plt.subplots()\n",
    "    ax.plot(range(len(h)), h)\n",
    "    ax.set(xlabel=\"time\", ylabel=y_axis, title=plot_name)\n",
    "    name = plot_name + \".png\"\n",
    "    fig.savefig(name)\n",
    "    plt.show()"
   ]
  },
  {
   "cell_type": "code",
   "execution_count": 12,
   "metadata": {},
   "outputs": [
    {
     "data": {
      "image/png": "[encoded data removed]",
      "text/plain": [
       "<Figure size 432x288 with 1 Axes>"
      ]
     },
     "metadata": {},
     "output_type": "display_data"
    }
   ],
   "source": [
    "simulate()"
   ]
  }
 ],
 "metadata": {
  "kernelspec": {
   "display_name": "Python 3",
   "language": "python",
   "name": "python3"
  },
  "language_info": {
   "codemirror_mode": {
    "name": "ipython",
    "version": 3
   },
   "file_extension": ".py",
   "mimetype": "text/x-python",
   "name": "python",
   "nbconvert_exporter": "python",
   "pygments_lexer": "ipython3",
   "version": "3.6.5"
  }
 },
 "nbformat": 4,
 "nbformat_minor": 2
}
